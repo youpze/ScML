from imblearn.under_sampling import RandomUnderSampler
from imblearn.over_sampling import SMOTE
from sklearn.ensemble import RandomForestClassifier
from sklearn.metrics import accuracy_score, f1_score, roc_auc_score

random_state = 42

# 1. Model trained on raw training data (no resampling)
rf_raw = RandomForestClassifier(class_weight='balanced', n_estimators=100, random_state=random_state)
rf_raw.fit(X_train, y_train)
y_pred_raw = rf_raw.predict(X_test)
print("Raw Data Model:")
print("Accuracy:", accuracy_score(y_test, y_pred_raw))
print("F1 Score:", f1_score(y_test, y_pred_raw, pos_label=1))
print("ROC-AUC:", roc_auc_score(y_test, rf_raw.predict_proba(X_test)[:, 1]))
print("\n")

# 2. Model trained on undersampled training data
rus = RandomUnderSampler(sampling_strategy=0.3, random_state=random_state)
X_train_undersampled, y_train_undersampled = rus.fit_resample(X_train, y_train)

rf_under = RandomForestClassifier(class_weight='balanced', n_estimators=100, random_state=random_state)
rf_under.fit(X_train_undersampled, y_train_undersampled)
y_pred_under = rf_under.predict(X_test)
print("Undersampled Model:")
print("Accuracy:", accuracy_score(y_test, y_pred_under))
print("F1 Score:", f1_score(y_test, y_pred_under, pos_label=1))
print("ROC-AUC:", roc_auc_score(y_test, rf_under.predict_proba(X_test)[:, 1]))
print("\n")

# 3. Model trained on oversampled training data 
smote = SMOTE(random_state=random_state)
X_train_oversampled, y_train_oversampled = smote.fit_resample(X_train, y_train)

rf_over = RandomForestClassifier(class_weight='balanced', n_estimators=100, random_state=random_state)
rf_over.fit(X_train_oversampled, y_train_oversampled)
y_pred_over = rf_over.predict(X_test)
print("Oversampled Model:")
print("Accuracy:", accuracy_score(y_test, y_pred_over))
print("F1 Score:", f1_score(y_test, y_pred_over, pos_label=1))
print("ROC-AUC:", roc_auc_score(y_test, rf_over.predict_proba(X_test)[:, 1]))
